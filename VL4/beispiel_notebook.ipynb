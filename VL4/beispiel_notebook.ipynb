{
 "cells": [
  {
   "cell_type": "code",
   "execution_count": 1,
   "id": "9c94eb5c",
   "metadata": {},
   "outputs": [],
   "source": [
    "import beispiel_modul"
   ]
  },
  {
   "cell_type": "markdown",
   "id": "a5456d88",
   "metadata": {},
   "source": [
    "# Brutto für Netto\n",
    "Du musst den Nettobetrag * 1.19 nehmen"
   ]
  },
  {
   "cell_type": "code",
   "execution_count": 2,
   "id": "69965dd8",
   "metadata": {},
   "outputs": [
    {
     "name": "stdout",
     "output_type": "stream",
     "text": [
      "Beispielsweise so: Für 100€ Netto, kriegst du  119.0 €\n"
     ]
    }
   ],
   "source": [
    "print(\"Beispielsweise so: Für 100€ Netto, kriegst du \", beispiel_modul.brutto_für_netto(100), \"€\")"
   ]
  },
  {
   "cell_type": "code",
   "execution_count": null,
   "id": "00ce696a",
   "metadata": {},
   "outputs": [
    {
     "name": "stdout",
     "output_type": "stream",
     "text": [
      "Möglichkeiten, 3 Elemente aus 5 zu ziehen:  10\n",
      "6! =  720\n",
      "Wurzel(9) =  3.0\n"
     ]
    }
   ],
   "source": [
    "import math\n",
    "print(\"Möglichkeiten, 3 Elemente aus 5 zu ziehen: \", math.comb(5,3))\n",
    "from math import factorial\n",
    "\n",
    "print(\"6! = \", factorial(6))\n",
    "# würde nicht für andere Funktionen aus dem math-Modul\n",
    "print(\"Wurzel(9) = \", math.sqrt(9))"
   ]
  },
  {
   "cell_type": "markdown",
   "id": "ae03166b",
   "metadata": {},
   "source": [
    "# Modul random\n",
    "https://docs.python.org/3/library/random.html"
   ]
  },
  {
   "cell_type": "code",
   "execution_count": 8,
   "id": "c5e69db9",
   "metadata": {},
   "outputs": [
    {
     "name": "stdout",
     "output_type": "stream",
     "text": [
      "Gewonnen!\n"
     ]
    }
   ],
   "source": [
    "import random\n",
    "\n",
    "gewählt = random.choice([\"Schere\", \"Stein\", \"Papier\"])\n",
    "unsere_wahl = input(\"Schere | Stein | Papier\")\n",
    "\n",
    "if gewählt == \"Schere\":\n",
    "    if unsere_wahl == \"Stein\":\n",
    "        print(\"Gewonnen!\")\n",
    "    elif unsere_wahl == \"Schere\":\n",
    "        print(\"Unentschieden\")\n",
    "    else: \n",
    "        print(\"Verloren\")\n",
    "elif gewählt == \"Stein\":\n",
    "    if unsere_wahl == \"Papier\":\n",
    "        print(\"Gewonnen!\")\n",
    "    elif unsere_wahl == \"Stein\":\n",
    "        print(\"Unentschieden\")\n",
    "    else: \n",
    "        print(\"Verloren\")\n",
    "else: # Papier\n",
    "    if unsere_wahl == \"Schere\":\n",
    "        print(\"Gewonnen!\")\n",
    "    elif unsere_wahl == \"Papier\":\n",
    "        print(\"Unentschieden\")\n",
    "    else: \n",
    "        print(\"Verloren\")"
   ]
  },
  {
   "cell_type": "code",
   "execution_count": 26,
   "id": "1c496837",
   "metadata": {},
   "outputs": [
    {
     "name": "stdout",
     "output_type": "stream",
     "text": [
      "Papier\n"
     ]
    }
   ],
   "source": [
    "gewählt = random.choice([\"Schere\", \"Stein\", \"Papier\"])\n",
    "print(gewählt)"
   ]
  },
  {
   "cell_type": "code",
   "execution_count": 1,
   "id": "d02feab0",
   "metadata": {},
   "outputs": [
    {
     "ename": "NameError",
     "evalue": "name '__file__' is not defined",
     "output_type": "error",
     "traceback": [
      "\u001b[1;31m---------------------------------------------------------------------------\u001b[0m",
      "\u001b[1;31mNameError\u001b[0m                                 Traceback (most recent call last)",
      "Cell \u001b[1;32mIn[1], line 1\u001b[0m\n\u001b[1;32m----> 1\u001b[0m \u001b[38;5;28mprint\u001b[39m(\u001b[38;5;18;43m__file__\u001b[39;49m)\n",
      "\u001b[1;31mNameError\u001b[0m: name '__file__' is not defined"
     ]
    }
   ],
   "source": [
    "print(__file__)"
   ]
  }
 ],
 "metadata": {
  "kernelspec": {
   "display_name": "base",
   "language": "python",
   "name": "python3"
  },
  "language_info": {
   "codemirror_mode": {
    "name": "ipython",
    "version": 3
   },
   "file_extension": ".py",
   "mimetype": "text/x-python",
   "name": "python",
   "nbconvert_exporter": "python",
   "pygments_lexer": "ipython3",
   "version": "3.8.18"
  }
 },
 "nbformat": 4,
 "nbformat_minor": 5
}
